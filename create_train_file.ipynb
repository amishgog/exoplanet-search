{
  "nbformat": 4,
  "nbformat_minor": 0,
  "metadata": {
    "colab": {
      "provenance": [],
      "include_colab_link": true
    },
    "kernelspec": {
      "name": "python3",
      "display_name": "Python 3"
    },
    "language_info": {
      "name": "python"
    }
  },
  "cells": [
    {
      "cell_type": "markdown",
      "metadata": {
        "id": "view-in-github",
        "colab_type": "text"
      },
      "source": [
        "<a href=\"https://colab.research.google.com/github/amishgog/exoplanet-search/blob/main/create_train_file.ipynb\" target=\"_parent\"><img src=\"https://colab.research.google.com/assets/colab-badge.svg\" alt=\"Open In Colab\"/></a>"
      ]
    },
    {
      "cell_type": "code",
      "source": [
        "#uploading star ID file for light curve extraction\n",
        "from google.colab import files\n",
        "uploaded = files.upload()\n",
        "filename = next(iter(uploaded))"
      ],
      "metadata": {
        "id": "JBCLPSHCr29v"
      },
      "execution_count": null,
      "outputs": []
    },
    {
      "cell_type": "code",
      "source": [
        "#importing necessary libraries and reading csv\n",
        "import warnings\n",
        "warnings.filterwarnings(\"ignore\")\n",
        "import sys\n",
        "import csv\n",
        "import pandas as pd\n",
        "import io\n",
        "data = pd.read_csv(filename)\n",
        "print(data)\n",
        "\n",
        "!pip install lightkurve\n",
        "#installing tsfresh for feature extraction\n",
        "!pip install tsfresh"
      ],
      "metadata": {
        "id": "adwNAl0MtKBr"
      },
      "execution_count": null,
      "outputs": []
    },
    {
      "cell_type": "code",
      "source": [
        "#main file for extracting features from light curves and storing in csv\n",
        "from lightkurve import search_targetpixelfile\n",
        "from tsfresh import extract_features\n",
        "from tsfresh.feature_extraction import extract_features, MinimalFCParameters\n",
        "from csv import writer\n",
        "appended_data = []\n",
        "with open(filename) as file:\n",
        "    reader = csv.DictReader(file)\n",
        "\n",
        "    for row in reader:\n",
        "      try:\n",
        "          tpf_file = search_targetpixelfile(row['\\ufeffID']).download(quality_bitmask='default')\n",
        "          if tpf_file == None:\n",
        "            continue\n",
        "          lc = tpf_file.to_lightcurve()\n",
        "          lc.to_csv(\"light_curve.csv\", overwrite = True)\n",
        "          df = pd.read_csv(\"light_curve.csv\")\n",
        "          df[\"ID\"] = 1\n",
        "          extracted_features = extract_features(df, default_fc_parameters=MinimalFCParameters(), column_id = \"ID\")\n",
        "          extracted_features['Boolean'] = row['Yes/No']\n",
        "          extracted_features.insert(loc = 0, column = \"Star_ID\", value = row['\\ufeffID'])\n",
        "          appended_data.append(extracted_features)\n",
        "          \n",
        "     \n",
        "      except (TypeError , AttributeError, ValueError):\n",
        "          continue\n",
        "    \n"
      ],
      "metadata": {
        "id": "g1ZxQetJdkoc"
      },
      "execution_count": null,
      "outputs": []
    },
    {
      "cell_type": "code",
      "source": [
        "#appending data to a single file \n",
        "appended_data = pd.concat(appended_data)\n",
        "appended_data.to_excel(\"final_train_file.xlsx\")\n",
        "#converting file to an excel to feed into ML algorithm\n",
        "with open(\"final_train_file.xlsx\" , mode = 'rb') as the_file:\n",
        "  df1 = pd.read_excel(the_file)\n",
        "  data_frame = df1.drop(['quality__median' , 'quality__minimum'], axis=1)\n",
        "  display(data_frame)\n",
        "  "
      ],
      "metadata": {
        "id": "47nJUygLpBuG"
      },
      "execution_count": null,
      "outputs": []
    }
  ]
}